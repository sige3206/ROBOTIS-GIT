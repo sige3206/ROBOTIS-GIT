{
  "nbformat": 4,
  "nbformat_minor": 0,
  "metadata": {
    "colab": {
      "name": "Chatbot.ipynb",
      "provenance": [],
      "authorship_tag": "ABX9TyMz1kWfkm2HIMBoV39bKGna",
      "include_colab_link": true
    },
    "kernelspec": {
      "name": "python3",
      "display_name": "Python 3"
    },
    "language_info": {
      "name": "python"
    }
  },
  "cells": [
    {
      "cell_type": "markdown",
      "metadata": {
        "id": "view-in-github",
        "colab_type": "text"
      },
      "source": [
        "<a href=\"https://colab.research.google.com/github/sige3206/ROBOTIS-GIT/blob/main/Chatbot.ipynb\" target=\"_parent\"><img src=\"https://colab.research.google.com/assets/colab-badge.svg\" alt=\"Open In Colab\"/></a>"
      ]
    },
    {
      "cell_type": "code",
      "metadata": {
        "id": "YiZmraMedhSH"
      },
      "source": [
        "# This is a smart chat bot program\n"
      ],
      "execution_count": 1,
      "outputs": []
    },
    {
      "cell_type": "code",
      "metadata": {
        "colab": {
          "base_uri": "https://localhost:8080/"
        },
        "id": "bUJ-3S6Yds92",
        "outputId": "f85e44f9-32e4-4d93-f74d-6880e2719513"
      },
      "source": [
        "pip install nltk"
      ],
      "execution_count": 2,
      "outputs": [
        {
          "output_type": "stream",
          "text": [
            "Requirement already satisfied: nltk in /usr/local/lib/python3.7/dist-packages (3.2.5)\n",
            "Requirement already satisfied: six in /usr/local/lib/python3.7/dist-packages (from nltk) (1.15.0)\n"
          ],
          "name": "stdout"
        }
      ]
    },
    {
      "cell_type": "code",
      "metadata": {
        "colab": {
          "base_uri": "https://localhost:8080/"
        },
        "id": "OYju-y0ueO0Y",
        "outputId": "4d953a46-b3bd-420e-e674-ee49216cc0a0"
      },
      "source": [
        "pip install newspaper3k"
      ],
      "execution_count": 3,
      "outputs": [
        {
          "output_type": "stream",
          "text": [
            "Collecting newspaper3k\n",
            "\u001b[?25l  Downloading https://files.pythonhosted.org/packages/d7/b9/51afecb35bb61b188a4b44868001de348a0e8134b4dfa00ffc191567c4b9/newspaper3k-0.2.8-py3-none-any.whl (211kB)\n",
            "\r\u001b[K     |█▌                              | 10kB 13.0MB/s eta 0:00:01\r\u001b[K     |███                             | 20kB 18.5MB/s eta 0:00:01\r\u001b[K     |████▋                           | 30kB 10.9MB/s eta 0:00:01\r\u001b[K     |██████▏                         | 40kB 9.7MB/s eta 0:00:01\r\u001b[K     |███████▊                        | 51kB 8.5MB/s eta 0:00:01\r\u001b[K     |█████████▎                      | 61kB 7.3MB/s eta 0:00:01\r\u001b[K     |██████████▉                     | 71kB 7.5MB/s eta 0:00:01\r\u001b[K     |████████████▍                   | 81kB 8.2MB/s eta 0:00:01\r\u001b[K     |██████████████                  | 92kB 8.2MB/s eta 0:00:01\r\u001b[K     |███████████████▌                | 102kB 8.5MB/s eta 0:00:01\r\u001b[K     |█████████████████               | 112kB 8.5MB/s eta 0:00:01\r\u001b[K     |██████████████████▋             | 122kB 8.5MB/s eta 0:00:01\r\u001b[K     |████████████████████▏           | 133kB 8.5MB/s eta 0:00:01\r\u001b[K     |█████████████████████▊          | 143kB 8.5MB/s eta 0:00:01\r\u001b[K     |███████████████████████▎        | 153kB 8.5MB/s eta 0:00:01\r\u001b[K     |████████████████████████▉       | 163kB 8.5MB/s eta 0:00:01\r\u001b[K     |██████████████████████████▍     | 174kB 8.5MB/s eta 0:00:01\r\u001b[K     |████████████████████████████    | 184kB 8.5MB/s eta 0:00:01\r\u001b[K     |█████████████████████████████▌  | 194kB 8.5MB/s eta 0:00:01\r\u001b[K     |███████████████████████████████ | 204kB 8.5MB/s eta 0:00:01\r\u001b[K     |████████████████████████████████| 215kB 8.5MB/s \n",
            "\u001b[?25hRequirement already satisfied: PyYAML>=3.11 in /usr/local/lib/python3.7/dist-packages (from newspaper3k) (3.13)\n",
            "Collecting cssselect>=0.9.2\n",
            "  Downloading https://files.pythonhosted.org/packages/3b/d4/3b5c17f00cce85b9a1e6f91096e1cc8e8ede2e1be8e96b87ce1ed09e92c5/cssselect-1.1.0-py2.py3-none-any.whl\n",
            "Collecting feedfinder2>=0.0.4\n",
            "  Downloading https://files.pythonhosted.org/packages/35/82/1251fefec3bb4b03fd966c7e7f7a41c9fc2bb00d823a34c13f847fd61406/feedfinder2-0.0.4.tar.gz\n",
            "Requirement already satisfied: lxml>=3.6.0 in /usr/local/lib/python3.7/dist-packages (from newspaper3k) (4.2.6)\n",
            "Collecting jieba3k>=0.35.1\n",
            "\u001b[?25l  Downloading https://files.pythonhosted.org/packages/a9/cb/2c8332bcdc14d33b0bedd18ae0a4981a069c3513e445120da3c3f23a8aaa/jieba3k-0.35.1.zip (7.4MB)\n",
            "\u001b[K     |████████████████████████████████| 7.4MB 11.4MB/s \n",
            "\u001b[?25hRequirement already satisfied: Pillow>=3.3.0 in /usr/local/lib/python3.7/dist-packages (from newspaper3k) (7.1.2)\n",
            "Requirement already satisfied: nltk>=3.2.1 in /usr/local/lib/python3.7/dist-packages (from newspaper3k) (3.2.5)\n",
            "Requirement already satisfied: requests>=2.10.0 in /usr/local/lib/python3.7/dist-packages (from newspaper3k) (2.23.0)\n",
            "Requirement already satisfied: beautifulsoup4>=4.4.1 in /usr/local/lib/python3.7/dist-packages (from newspaper3k) (4.6.3)\n",
            "Collecting tldextract>=2.0.1\n",
            "\u001b[?25l  Downloading https://files.pythonhosted.org/packages/7e/62/b6acd3129c5615b9860e670df07fd55b76175b63e6b7f68282c7cad38e9e/tldextract-3.1.0-py2.py3-none-any.whl (87kB)\n",
            "\u001b[K     |████████████████████████████████| 92kB 7.4MB/s \n",
            "\u001b[?25hCollecting tinysegmenter==0.3\n",
            "  Downloading https://files.pythonhosted.org/packages/17/82/86982e4b6d16e4febc79c2a1d68ee3b707e8a020c5d2bc4af8052d0f136a/tinysegmenter-0.3.tar.gz\n",
            "Collecting feedparser>=5.2.1\n",
            "\u001b[?25l  Downloading https://files.pythonhosted.org/packages/1c/21/faf1bac028662cc8adb2b5ef7a6f3999a765baa2835331df365289b0ca56/feedparser-6.0.2-py3-none-any.whl (80kB)\n",
            "\u001b[K     |████████████████████████████████| 81kB 6.7MB/s \n",
            "\u001b[?25hRequirement already satisfied: python-dateutil>=2.5.3 in /usr/local/lib/python3.7/dist-packages (from newspaper3k) (2.8.1)\n",
            "Requirement already satisfied: six in /usr/local/lib/python3.7/dist-packages (from feedfinder2>=0.0.4->newspaper3k) (1.15.0)\n",
            "Requirement already satisfied: chardet<4,>=3.0.2 in /usr/local/lib/python3.7/dist-packages (from requests>=2.10.0->newspaper3k) (3.0.4)\n",
            "Requirement already satisfied: urllib3!=1.25.0,!=1.25.1,<1.26,>=1.21.1 in /usr/local/lib/python3.7/dist-packages (from requests>=2.10.0->newspaper3k) (1.24.3)\n",
            "Requirement already satisfied: idna<3,>=2.5 in /usr/local/lib/python3.7/dist-packages (from requests>=2.10.0->newspaper3k) (2.10)\n",
            "Requirement already satisfied: certifi>=2017.4.17 in /usr/local/lib/python3.7/dist-packages (from requests>=2.10.0->newspaper3k) (2020.12.5)\n",
            "Requirement already satisfied: filelock>=3.0.8 in /usr/local/lib/python3.7/dist-packages (from tldextract>=2.0.1->newspaper3k) (3.0.12)\n",
            "Collecting requests-file>=1.4\n",
            "  Downloading https://files.pythonhosted.org/packages/77/86/cdb5e8eaed90796aa83a6d9f75cfbd37af553c47a291cd47bc410ef9bdb2/requests_file-1.5.1-py2.py3-none-any.whl\n",
            "Collecting sgmllib3k\n",
            "  Downloading https://files.pythonhosted.org/packages/9e/bd/3704a8c3e0942d711c1299ebf7b9091930adae6675d7c8f476a7ce48653c/sgmllib3k-1.0.0.tar.gz\n",
            "Building wheels for collected packages: feedfinder2, jieba3k, tinysegmenter, sgmllib3k\n",
            "  Building wheel for feedfinder2 (setup.py) ... \u001b[?25l\u001b[?25hdone\n",
            "  Created wheel for feedfinder2: filename=feedfinder2-0.0.4-cp37-none-any.whl size=3358 sha256=2d7f7560c4d8c1cee345edc9fd201a8fcc15a20d75e6c5d864fa5c33680d4853\n",
            "  Stored in directory: /root/.cache/pip/wheels/de/03/ca/778e3a7a627e3d98836cc890e7cb40c7575424cfd3340f40ed\n",
            "  Building wheel for jieba3k (setup.py) ... \u001b[?25l\u001b[?25hdone\n",
            "  Created wheel for jieba3k: filename=jieba3k-0.35.1-cp37-none-any.whl size=7398406 sha256=5308f72f8637e1ecaaa6ffd5dded9f0caed6602c8bb6f36cb65f5956e21d548f\n",
            "  Stored in directory: /root/.cache/pip/wheels/83/15/9c/a3f1f67e7f7181170ad37d32e503c35da20627c013f438ed34\n",
            "  Building wheel for tinysegmenter (setup.py) ... \u001b[?25l\u001b[?25hdone\n",
            "  Created wheel for tinysegmenter: filename=tinysegmenter-0.3-cp37-none-any.whl size=13538 sha256=54c78749c7f205e41be8f4d8b688783c9e14430d9ec33b4d07feac566ee3190f\n",
            "  Stored in directory: /root/.cache/pip/wheels/81/2b/43/a02ede72324dd40cdd7ca53aad718c7710628e91b8b0dc0f02\n",
            "  Building wheel for sgmllib3k (setup.py) ... \u001b[?25l\u001b[?25hdone\n",
            "  Created wheel for sgmllib3k: filename=sgmllib3k-1.0.0-cp37-none-any.whl size=6067 sha256=13d55101deed8eac74408ddf6fabc067a8eb934eae3781c79bab586b0eae46f5\n",
            "  Stored in directory: /root/.cache/pip/wheels/f1/80/5a/444ba08a550cdd241bd9baf8bae44be750efe370adb944506a\n",
            "Successfully built feedfinder2 jieba3k tinysegmenter sgmllib3k\n",
            "Installing collected packages: cssselect, feedfinder2, jieba3k, requests-file, tldextract, tinysegmenter, sgmllib3k, feedparser, newspaper3k\n",
            "Successfully installed cssselect-1.1.0 feedfinder2-0.0.4 feedparser-6.0.2 jieba3k-0.35.1 newspaper3k-0.2.8 requests-file-1.5.1 sgmllib3k-1.0.0 tinysegmenter-0.3 tldextract-3.1.0\n"
          ],
          "name": "stdout"
        }
      ]
    },
    {
      "cell_type": "code",
      "metadata": {
        "id": "NVnOAaVreeli"
      },
      "source": [
        "# import libraries\n",
        "from newspaper import Article\n",
        "import random\n",
        "import string\n",
        "import nltk\n",
        "from sklearn.feature_extraction.text import CountVectorizer\n",
        "from sklearn.metrics.pairwise import cosine_similarity\n",
        "import numpy as np\n",
        "import warnings\n",
        "warnings.filterwarnings('ignore')"
      ],
      "execution_count": 4,
      "outputs": []
    },
    {
      "cell_type": "code",
      "metadata": {
        "colab": {
          "base_uri": "https://localhost:8080/"
        },
        "id": "gZdhI6tkf9f4",
        "outputId": "7416e8c8-877a-41f3-843f-22473501245b"
      },
      "source": [
        "#Download the punkt package\n",
        "nltk.download('punkt', quiet=True)"
      ],
      "execution_count": 5,
      "outputs": [
        {
          "output_type": "execute_result",
          "data": {
            "text/plain": [
              "True"
            ]
          },
          "metadata": {
            "tags": []
          },
          "execution_count": 5
        }
      ]
    },
    {
      "cell_type": "code",
      "metadata": {
        "id": "fi8FAWWwgU_F"
      },
      "source": [
        "# get the article\n",
        "article = Article('https://www.mayoclinic.org/diseases-conditions/chronic-kidney-disease/symptoms-causes/syc-20354521')\n",
        "article.download()\n",
        "article.parse()\n",
        "article.nlp()\n",
        "corpus = article.text"
      ],
      "execution_count": 6,
      "outputs": []
    },
    {
      "cell_type": "code",
      "metadata": {
        "id": "JrWu9qJihfJ-"
      },
      "source": [
        "# print the article text"
      ],
      "execution_count": 7,
      "outputs": []
    },
    {
      "cell_type": "code",
      "metadata": {
        "colab": {
          "base_uri": "https://localhost:8080/"
        },
        "id": "pJpd6RAUhlZo",
        "outputId": "8f2d1887-5652-4144-a707-d2b4d7a94547"
      },
      "source": [
        "print (corpus)"
      ],
      "execution_count": 8,
      "outputs": [
        {
          "output_type": "stream",
          "text": [
            "Overview\n",
            "\n",
            "Chronic kidney disease, also called chronic kidney failure, describes the gradual loss of kidney function. Your kidneys filter wastes and excess fluids from your blood, which are then excreted in your urine. When chronic kidney disease reaches an advanced stage, dangerous levels of fluid, electrolytes and wastes can build up in your body.\n",
            "\n",
            "In the early stages of chronic kidney disease, you may have few signs or symptoms. Chronic kidney disease may not become apparent until your kidney function is significantly impaired.\n",
            "\n",
            "Treatment for chronic kidney disease focuses on slowing the progression of the kidney damage, usually by controlling the underlying cause. Chronic kidney disease can progress to end-stage kidney failure, which is fatal without artificial filtering (dialysis) or a kidney transplant.\n",
            "\n",
            "Chronic kidney disease care at Mayo Clinic\n",
            "\n",
            "How kidneys work\n",
            "\n",
            "Symptoms\n",
            "\n",
            "Signs and symptoms of chronic kidney disease develop over time if kidney damage progresses slowly. Signs and symptoms of kidney disease may include:\n",
            "\n",
            "Nausea\n",
            "\n",
            "Vomiting\n",
            "\n",
            "Loss of appetite\n",
            "\n",
            "Fatigue and weakness\n",
            "\n",
            "Sleep problems\n",
            "\n",
            "Changes in how much you urinate\n",
            "\n",
            "Decreased mental sharpness\n",
            "\n",
            "Muscle twitches and cramps\n",
            "\n",
            "Swelling of feet and ankles\n",
            "\n",
            "Persistent itching\n",
            "\n",
            "Chest pain, if fluid builds up around the lining of the heart\n",
            "\n",
            "Shortness of breath, if fluid builds up in the lungs\n",
            "\n",
            "High blood pressure (hypertension) that's difficult to control\n",
            "\n",
            "Signs and symptoms of kidney disease are often nonspecific, meaning they can also be caused by other illnesses. Because your kidneys are highly adaptable and able to compensate for lost function, signs and symptoms may not appear until irreversible damage has occurred.\n",
            "\n",
            "When to see a doctor\n",
            "\n",
            "Make an appointment with your doctor if you have any signs or symptoms of kidney disease.\n",
            "\n",
            "If you have a medical condition that increases your risk of kidney disease, your doctor is likely to monitor your blood pressure and kidney function with urine and blood tests during regular office visits. Ask your doctor whether these tests are necessary for you.\n",
            "\n",
            "Causes\n",
            "\n",
            "Normal kidney vs. diseased kidney Open pop-up dialog box Close Normal kidney vs. diseased kidney Normal kidney vs. diseased kidney A normal kidney has about 1 million filtering units. Each unit, called a glomerulus, connects to a tubule, which collects urine. Conditions such as high blood pressure and diabetes take a toll on kidney function by damaging these filtering units and collecting tubules and causing scarring.\n",
            "\n",
            "Polycystic kidney Open pop-up dialog box Close Polycystic kidney Polycystic kidney A healthy kidney (left) eliminates waste from the blood and maintains the body's normal chemical balance. With polycystic kidney disease (right), fluid-filled sacs called cysts develop in the kidneys, causing them to grow larger and gradually lose their ability to function normally.\n",
            "\n",
            "Chronic kidney disease occurs when a disease or condition impairs kidney function, causing kidney damage to worsen over several months or years.\n",
            "\n",
            "Diseases and conditions that cause chronic kidney disease include:\n",
            "\n",
            "Type 1 or type 2 diabetes\n",
            "\n",
            "High blood pressure\n",
            "\n",
            "Glomerulonephritis (gloe-mer-u-low-nuh-FRY-tis), an inflammation of the kidney's filtering units (glomeruli)\n",
            "\n",
            "Interstitial nephritis (in-tur-STISH-ul nuh-FRY-tis), an inflammation of the kidney's tubules and surrounding structures\n",
            "\n",
            "Polycystic kidney disease\n",
            "\n",
            "Prolonged obstruction of the urinary tract, from conditions such as enlarged prostate, kidney stones and some cancers\n",
            "\n",
            "Vesicoureteral (ves-ih-koe-yoo-REE-tur-ul) reflux, a condition that causes urine to back up into your kidneys\n",
            "\n",
            "Recurrent kidney infection, also called pyelonephritis (pie-uh-low-nuh-FRY-tis)\n",
            "\n",
            "Risk factors\n",
            "\n",
            "Factors that may increase your risk of chronic kidney disease include:\n",
            "\n",
            "Diabetes\n",
            "\n",
            "High blood pressure\n",
            "\n",
            "Heart and blood vessel (cardiovascular) disease\n",
            "\n",
            "Smoking\n",
            "\n",
            "Obesity\n",
            "\n",
            "Being African-American, Native American or Asian-American\n",
            "\n",
            "Family history of kidney disease\n",
            "\n",
            "Abnormal kidney structure\n",
            "\n",
            "Older age\n",
            "\n",
            "Complications\n",
            "\n",
            "Chronic kidney disease can affect almost every part of your body. Potential complications may include:\n",
            "\n",
            "Fluid retention, which could lead to swelling in your arms and legs, high blood pressure, or fluid in your lungs (pulmonary edema)\n",
            "\n",
            "A sudden rise in potassium levels in your blood (hyperkalemia), which could impair your heart's ability to function and may be life-threatening\n",
            "\n",
            "Heart and blood vessel (cardiovascular) disease\n",
            "\n",
            "Weak bones and an increased risk of bone fractures\n",
            "\n",
            "Anemia\n",
            "\n",
            "Decreased sex drive, erectile dysfunction or reduced fertility\n",
            "\n",
            "Damage to your central nervous system, which can cause difficulty concentrating, personality changes or seizures\n",
            "\n",
            "Decreased immune response, which makes you more vulnerable to infection\n",
            "\n",
            "Pericarditis, an inflammation of the saclike membrane that envelops your heart (pericardium)\n",
            "\n",
            "Pregnancy complications that carry risks for the mother and the developing fetus\n",
            "\n",
            "Irreversible damage to your kidneys (end-stage kidney disease), eventually requiring either dialysis or a kidney transplant for survival\n",
            "\n",
            "Prevention\n",
            "\n",
            "To reduce your risk of developing kidney disease:\n"
          ],
          "name": "stdout"
        }
      ]
    },
    {
      "cell_type": "code",
      "metadata": {
        "id": "bGQpPFP7htwG"
      },
      "source": [
        "# Tokenization"
      ],
      "execution_count": 9,
      "outputs": []
    },
    {
      "cell_type": "code",
      "metadata": {
        "id": "Fnf4rg3yiW0n"
      },
      "source": [
        "text = corpus"
      ],
      "execution_count": null,
      "outputs": []
    }
  ]
}